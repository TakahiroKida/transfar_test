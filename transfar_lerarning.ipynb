{
 "cells": [
  {
   "cell_type": "code",
   "execution_count": 1,
   "metadata": {},
   "outputs": [
    {
     "name": "stderr",
     "output_type": "stream",
     "text": [
      "Using TensorFlow backend.\n"
     ]
    }
   ],
   "source": [
    "#機械学習ライブラリ\n",
    "import numpy as np\n",
    "import tensorflow as tf\n",
    "import keras\n",
    "#モデル作成用\n",
    "from keras.models import Model\n",
    "#レイヤー各種\n",
    "from keras.layers import Dense,GlobalAveragePooling2D\n",
    "#ジェネレータ\n",
    "from keras.preprocessing.image import ImageDataGenerator\n",
    "#オプティマイザ\n",
    "from keras.optimizers import SGD\n",
    "#コールバック関数\n",
    "from keras.callbacks import ModelCheckpoint,CSVLogger,ReduceLROnPlateau\n",
    "#既存学習済みモデル\n",
    "from keras.applications.inception_v3 import InceptionV3\n",
    "#GPUステータス確認用\n",
    "from tensorflow.python.client import device_lib\n",
    "#汎用ライブラリ\n",
    "import os\n",
    "import cv2"
   ]
  },
  {
   "cell_type": "code",
   "execution_count": 5,
   "metadata": {},
   "outputs": [
    {
     "data": {
      "text/plain": [
       "[name: \"/device:CPU:0\"\n",
       " device_type: \"CPU\"\n",
       " memory_limit: 268435456\n",
       " locality {\n",
       " }\n",
       " incarnation: 14360841766109072775, name: \"/device:GPU:0\"\n",
       " device_type: \"GPU\"\n",
       " memory_limit: 1454299545\n",
       " locality {\n",
       "   bus_id: 1\n",
       "   links {\n",
       "   }\n",
       " }\n",
       " incarnation: 14531255675681491968\n",
       " physical_device_desc: \"device: 0, name: GeForce GTX 960M, pci bus id: 0000:01:00.0, compute capability: 5.0\"]"
      ]
     },
     "execution_count": 5,
     "metadata": {},
     "output_type": "execute_result"
    }
   ],
   "source": [
    "#kerasのセッションクリア\n",
    "keras .backend.clear_session()\n",
    "#0番目のGPUを使うように設定\n",
    "config = tf.ConfigProto(gpu_options = tf.GPUOptions(\n",
    "            visible_device_list=\"0\",\n",
    "            allow_growth = True))\n",
    "session = tf.Session(config = config)\n",
    "keras.backend.set_session(session = session)\n",
    "#GPU情報確認\n",
    "device_lib.list_local_devices()"
   ]
  },
  {
   "cell_type": "code",
   "execution_count": 6,
   "metadata": {},
   "outputs": [],
   "source": [
    "#画像サイズ\n",
    "img_size = 299\n",
    "#チャンネル数\n",
    "ch = 3\n",
    "#クラス（カテゴリ）数\n",
    "class_num = 2\n",
    "#学習率\n",
    "lr = 1e-2\n",
    "#バッチサイズ\n",
    "batch_size = 8\n",
    "#エポック数\n",
    "epochs = 100\n",
    "#活性化関数\n",
    "activation = \"sigmoid\"\n",
    "#損失関数\n",
    "loss = \"binary_crossentropy\"\n",
    "#カテゴリ数に応じて関数変更\n",
    "if class_num > 2:\n",
    "    loss_type = \"categorical_crossentropy\"\n",
    "    activation = \"softmax\""
   ]
  },
  {
   "cell_type": "code",
   "execution_count": 7,
   "metadata": {},
   "outputs": [],
   "source": [
    "#既存学習済みモデル読み込み\n",
    "base_model = InceptionV3(include_top = False,weights = \"imagenet\")"
   ]
  },
  {
   "cell_type": "code",
   "execution_count": 10,
   "metadata": {},
   "outputs": [
    {
     "name": "stderr",
     "output_type": "stream",
     "text": [
      "D:\\ProgramData\\Anaconda3\\lib\\site-packages\\ipykernel_launcher.py:6: UserWarning: Update your `Model` call to the Keras 2 API: `Model(inputs=Tensor(\"in..., outputs=Tensor(\"de...)`\n",
      "  \n"
     ]
    }
   ],
   "source": [
    "#特徴量抽出部分を流用する\n",
    "x = base_model.output\n",
    "x = GlobalAveragePooling2D()(x)\n",
    "x = Dense(1024,activation = \"relu\")(x)\n",
    "prediction = Dense(class_num,activation = activation)(x)\n",
    "model = Model(inputs = base_model.input,output = prediction)"
   ]
  },
  {
   "cell_type": "code",
   "execution_count": 11,
   "metadata": {},
   "outputs": [],
   "source": [
    "#248層まで凍結\n",
    "for layer in base_model.layers[:int(len(base_model.layers) * 0.8)]:\n",
    "    layer.trainable = layer.name.startswith(\"batch_normalization\")"
   ]
  },
  {
   "cell_type": "code",
   "execution_count": 13,
   "metadata": {},
   "outputs": [],
   "source": [
    "#オプティマイザ\n",
    "opt = SGD(lr = lr,momentum = 0.9)\n",
    "#モデルコンパイル\n",
    "model.compile(optimizer=opt,loss = loss,etrics=['accuracy'])\n",
    "#確認\n",
    "#model.summary()"
   ]
  },
  {
   "cell_type": "code",
   "execution_count": 29,
   "metadata": {},
   "outputs": [],
   "source": [
    "#画像取得用関数定義"
   ]
  },
  {
   "cell_type": "code",
   "execution_count": 30,
   "metadata": {},
   "outputs": [],
   "source": [
    "#ジェネレータ定義\n",
    "traindata_gen = ImageDataGenerator(\n",
    "                featurewise_center=True,\n",
    "                featurewise_std_normalization=True,\n",
    "                rotation_range=20,\n",
    "                width_shift_range=0.2,\n",
    "                height_shift_range=0.2,\n",
    "                horizontal_flip=True)\n",
    "\n",
    "testdata_gen = ImageDataGenerator()"
   ]
  },
  {
   "cell_type": "code",
   "execution_count": 20,
   "metadata": {},
   "outputs": [],
   "source": [
    "#学習、テスト用画像取得\n",
    "#X_train,y_train,X_test,y_test = \n",
    "#ジェネレータ作成\n",
    "#train_generator = traindata_gen()\n",
    "#test_generator = testdata_gen()"
   ]
  },
  {
   "cell_type": "code",
   "execution_count": null,
   "metadata": {},
   "outputs": [],
   "source": [
    "#コールバック関数定義\n",
    "#モデル保存先ディレクトリ名\n",
    "dir_name = \"./models/InceptionV3_after_248/\"\n",
    "if not os.path.isdir(dir_name):\n",
    "    os.mkdir(dir_name)\n",
    "#良モデル保存用関数\n",
    "checkpoint = ModelCheckpoint(filepath = dir_name + \"model.hdf5\",verbose = 1,save_best_only = True)\n",
    "#ログ取得用関数\n",
    "csv_logger = CSVLogger(dir_name + \"cnn.log\")\n",
    "#lossが減らない場合学習率を減らす用関数\n",
    "reduce_lr = ReduceLROnPlateau(monitor = \"val_los\",factor = 0.2,patience = 5,min_lr = 1e-5)"
   ]
  },
  {
   "cell_type": "code",
   "execution_count": 22,
   "metadata": {},
   "outputs": [
    {
     "ename": "NameError",
     "evalue": "name 'train_generator' is not defined",
     "output_type": "error",
     "traceback": [
      "\u001b[1;31m---------------------------------------------------------------------------\u001b[0m",
      "\u001b[1;31mNameError\u001b[0m                                 Traceback (most recent call last)",
      "\u001b[1;32m<ipython-input-22-a0e8591d79e5>\u001b[0m in \u001b[0;36m<module>\u001b[1;34m\u001b[0m\n\u001b[0;32m      1\u001b[0m \u001b[1;31m#学習開始\u001b[0m\u001b[1;33m\u001b[0m\u001b[1;33m\u001b[0m\u001b[1;33m\u001b[0m\u001b[0m\n\u001b[1;32m----> 2\u001b[1;33m history = model.fit_generator(train_generator,\n\u001b[0m\u001b[0;32m      3\u001b[0m                 \u001b[0msteps_per_epoch\u001b[0m \u001b[1;33m=\u001b[0m \u001b[0mint\u001b[0m\u001b[1;33m(\u001b[0m\u001b[0mlen\u001b[0m\u001b[1;33m(\u001b[0m\u001b[0mX_train\u001b[0m\u001b[1;33m)\u001b[0m \u001b[1;33m/\u001b[0m \u001b[0mbatch_size\u001b[0m\u001b[1;33m)\u001b[0m\u001b[1;33m,\u001b[0m\u001b[1;33m\u001b[0m\u001b[1;33m\u001b[0m\u001b[0m\n\u001b[0;32m      4\u001b[0m                 \u001b[0mepochs\u001b[0m \u001b[1;33m=\u001b[0m \u001b[0mepochs\u001b[0m\u001b[1;33m,\u001b[0m\u001b[1;33m\u001b[0m\u001b[1;33m\u001b[0m\u001b[0m\n\u001b[0;32m      5\u001b[0m                 \u001b[0mvalidation_data\u001b[0m \u001b[1;33m=\u001b[0m \u001b[0mtest_generator\u001b[0m\u001b[1;33m,\u001b[0m\u001b[1;33m\u001b[0m\u001b[1;33m\u001b[0m\u001b[0m\n",
      "\u001b[1;31mNameError\u001b[0m: name 'train_generator' is not defined"
     ]
    }
   ],
   "source": [
    "#学習開始\n",
    "history = model.fit_generator(train_generator,\n",
    "            steps_per_epoch = int(len(X_train) / batch_size),\n",
    "            epochs = epochs,\n",
    "            validation_data = test_generator,\n",
    "            validation_steps = 100,\n",
    "            verbose = 1,\n",
    "            callbacks = [reduce_lr,csv_logger,checkpoint])          "
   ]
  },
  {
   "cell_type": "code",
   "execution_count": null,
   "metadata": {},
   "outputs": [],
   "source": []
  }
 ],
 "metadata": {
  "kernelspec": {
   "display_name": "Python 3",
   "language": "python",
   "name": "python3"
  },
  "language_info": {
   "codemirror_mode": {
    "name": "ipython",
    "version": 3
   },
   "file_extension": ".py",
   "mimetype": "text/x-python",
   "name": "python",
   "nbconvert_exporter": "python",
   "pygments_lexer": "ipython3",
   "version": "3.7.1"
  }
 },
 "nbformat": 4,
 "nbformat_minor": 2
}
