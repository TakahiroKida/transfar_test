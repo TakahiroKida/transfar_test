{
 "cells": [
  {
   "cell_type": "code",
   "execution_count": 1,
   "metadata": {},
   "outputs": [
    {
     "name": "stderr",
     "output_type": "stream",
     "text": [
      "Using TensorFlow backend.\n"
     ]
    }
   ],
   "source": [
    "#keras\n",
    "import tensorflow.contrib.keras\n",
    "#モデル作成用\n",
    "from keras.models import Model\n",
    "#レイヤー各種\n",
    "from keras.layers import Dense, GlobalAveragePooling2D,Input\n",
    "#既存学習済みモデル\n",
    "from keras.applications.inception_v3 import InceptionV3\n",
    "#オプティマイザ\n",
    "from keras.optimizers import Adam"
   ]
  },
  {
   "cell_type": "code",
   "execution_count": 2,
   "metadata": {},
   "outputs": [],
   "source": [
    "#画像サイズ\n",
    "img_size = 224\n",
    "#チャンネル数\n",
    "ch = 3\n",
    "#クラス（カテゴリ）数\n",
    "categories_num = 2\n",
    "#学習率\n",
    "lr = 1e-5\n",
    "#バッチサイズ\n",
    "batch_size = 16\n",
    "#エポック数\n"
   ]
  },
  {
   "cell_type": "code",
   "execution_count": 3,
   "metadata": {},
   "outputs": [
    {
     "name": "stdout",
     "output_type": "stream",
     "text": [
      "WARNING:tensorflow:From /home/iroha/.local/lib/python3.6/site-packages/tensorflow/python/framework/op_def_library.py:263: colocate_with (from tensorflow.python.framework.ops) is deprecated and will be removed in a future version.\n",
      "Instructions for updating:\n",
      "Colocations handled automatically by placer.\n"
     ]
    }
   ],
   "source": [
    "#既存学習済みモデル読み込み\n",
    "base_model = InceptionV3(include_top = False,weights = \"imagenet\",\n",
    "                         input_tensor=Input(shape=(img_size,img_size,ch)))\n",
    "#レイヤー概要表示\n",
    "#base_model.summary()"
   ]
  },
  {
   "cell_type": "code",
   "execution_count": 4,
   "metadata": {},
   "outputs": [
    {
     "name": "stderr",
     "output_type": "stream",
     "text": [
      "/usr/local/lib/python3.6/dist-packages/ipykernel_launcher.py:7: UserWarning: Update your `Model` call to the Keras 2 API: `Model(inputs=Tensor(\"in..., outputs=Tensor(\"de...)`\n",
      "  import sys\n"
     ]
    }
   ],
   "source": [
    "#特徴量抽出部分を流用する\n",
    "x = base_model.output\n",
    "x = GlobalAveragePooling2D()(x)\n",
    "#新たな全結合層\n",
    "x = Dense(1024,activation = 'relu')(x)\n",
    "prediction = Dense(categories_num,activation = 'softmax')(x)\n",
    "model = Model(inputs = base_model.input,output = prediction)\n",
    "#レイヤー概要表示（全結合層が変更されていることを確認）\n",
    "#model.summary()"
   ]
  },
  {
   "cell_type": "code",
   "execution_count": 5,
   "metadata": {},
   "outputs": [],
   "source": [
    "#レイヤー凍結（重みを更新しないようにする）処理\n",
    "#レイヤー数確認\n",
    "layer_len = len(base_model.layers)\n",
    "#初期状態確認\n",
    "#print(layer_len)\n",
    "#for layer in base_model.layers:\n",
    "#    print(layer.trainable)\n",
    "#とりあえず最後以外全部凍結\n",
    "for layer in base_model.layers:\n",
    "    layer.trainable=False\n",
    "#最後だけTrue\n",
    "base_model.layers[layer_len -1 ].trainable = True\n",
    "#変更ができているか確認\n",
    "#print(base_model.layers[layer_len -1 ].trainable)\n",
    "#for layer in base_model.layers:\n",
    "#    print(layer.trainable)"
   ]
  },
  {
   "cell_type": "code",
   "execution_count": 6,
   "metadata": {},
   "outputs": [],
   "source": [
    "#モデルコンパイル\n",
    "model.compile(optimizer=Adam(lr=lr),loss = 'categorical_crossentropy',\n",
    "              metrics=['accuracy'])\n",
    "#確認\n",
    "#model.summary()"
   ]
  },
  {
   "cell_type": "code",
   "execution_count": null,
   "metadata": {},
   "outputs": [],
   "source": []
  }
 ],
 "metadata": {
  "kernelspec": {
   "display_name": "Python 3",
   "language": "python",
   "name": "python3"
  },
  "language_info": {
   "codemirror_mode": {
    "name": "ipython",
    "version": 3
   },
   "file_extension": ".py",
   "mimetype": "text/x-python",
   "name": "python",
   "nbconvert_exporter": "python",
   "pygments_lexer": "ipython3",
   "version": "3.6.7"
  }
 },
 "nbformat": 4,
 "nbformat_minor": 2
}
